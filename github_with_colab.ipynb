{
  "nbformat": 4,
  "nbformat_minor": 0,
  "metadata": {
    "colab": {
      "name": "github with colab",
      "provenance": [],
      "authorship_tag": "ABX9TyP+4ZS9ePVb1JzTDwhoVzLQ",
      "include_colab_link": true
    },
    "kernelspec": {
      "name": "python3",
      "display_name": "Python 3"
    }
  },
  "cells": [
    {
      "cell_type": "markdown",
      "metadata": {
        "id": "view-in-github",
        "colab_type": "text"
      },
      "source": [
        "<a href=\"https://colab.research.google.com/github/andreusjh99/colab/blob/master/github_with_colab.ipynb\" target=\"_parent\"><img src=\"https://colab.research.google.com/assets/colab-badge.svg\" alt=\"Open In Colab\"/></a>"
      ]
    },
    {
      "cell_type": "markdown",
      "metadata": {
        "id": "7DZX3pAUAFKN"
      },
      "source": [
        "# Using github repositories with Colab"
      ]
    },
    {
      "cell_type": "markdown",
      "metadata": {
        "id": "hH26NjvZAcGK"
      },
      "source": [
        "We can clone a github repo to use the files/modules etc in the repo. This is simply done using terminal commands with a `!` or `%` in front of them*."
      ]
    },
    {
      "cell_type": "code",
      "metadata": {
        "id": "OHg-ndEo_dSq",
        "outputId": "aa00e809-93d8-40b8-a3af-b0f40cf16798",
        "colab": {
          "base_uri": "https://localhost:8080/",
          "height": 119
        }
      },
      "source": [
        "!git clone https://github.com/andreusjh99/colab.git"
      ],
      "execution_count": 1,
      "outputs": [
        {
          "output_type": "stream",
          "text": [
            "Cloning into 'colab'...\n",
            "remote: Enumerating objects: 10, done.\u001b[K\n",
            "remote: Counting objects: 100% (10/10), done.\u001b[K\n",
            "remote: Compressing objects: 100% (8/8), done.\u001b[K\n",
            "remote: Total 10 (delta 2), reused 0 (delta 0), pack-reused 0\u001b[K\n",
            "Unpacking objects: 100% (10/10), done.\n"
          ],
          "name": "stdout"
        }
      ]
    },
    {
      "cell_type": "markdown",
      "metadata": {
        "id": "p_tj2uH9A94h"
      },
      "source": [
        "After cloning the repo, we are not in the directory we just cloned as can be seen below. We now need to move to that directory."
      ]
    },
    {
      "cell_type": "code",
      "metadata": {
        "id": "Cvxw8tBmA82Y",
        "outputId": "afd2b877-13e5-4e56-8e87-b349589d5e1d",
        "colab": {
          "base_uri": "https://localhost:8080/",
          "height": 35
        }
      },
      "source": [
        "%pwd"
      ],
      "execution_count": 12,
      "outputs": [
        {
          "output_type": "execute_result",
          "data": {
            "application/vnd.google.colaboratory.intrinsic+json": {
              "type": "string"
            },
            "text/plain": [
              "'/content'"
            ]
          },
          "metadata": {
            "tags": []
          },
          "execution_count": 12
        }
      ]
    },
    {
      "cell_type": "code",
      "metadata": {
        "id": "kz0-BpzSBBrz",
        "outputId": "e00f3e7e-7064-4c30-e7ca-e33e8e26e438",
        "colab": {
          "base_uri": "https://localhost:8080/",
          "height": 34
        }
      },
      "source": [
        "%cd colab"
      ],
      "execution_count": 16,
      "outputs": [
        {
          "output_type": "stream",
          "text": [
            "/content/colab\n"
          ],
          "name": "stdout"
        }
      ]
    },
    {
      "cell_type": "code",
      "metadata": {
        "id": "rg4XA3kMBEPJ",
        "outputId": "e88b2af3-b47d-4456-ed6e-26a4f098bf44",
        "colab": {
          "base_uri": "https://localhost:8080/",
          "height": 34
        }
      },
      "source": [
        "%ls"
      ],
      "execution_count": 17,
      "outputs": [
        {
          "output_type": "stream",
          "text": [
            "Loading_Python_helper_from_Drive.ipynb  README.md\n"
          ],
          "name": "stdout"
        }
      ]
    },
    {
      "cell_type": "markdown",
      "metadata": {
        "id": "SZgrmpr4ChBO"
      },
      "source": [
        "And with that, you can use the files/modules in the repo.\n",
        "\n",
        "To get update on changes in the repo, you can always git pull. Note that you can only git pull when you are in the correct directory!"
      ]
    },
    {
      "cell_type": "code",
      "metadata": {
        "id": "VxIVbEjdBFZJ",
        "outputId": "42a50a48-f610-44c6-db24-45520f6fa5ab",
        "colab": {
          "base_uri": "https://localhost:8080/",
          "height": 34
        }
      },
      "source": [
        "! git pull"
      ],
      "execution_count": 18,
      "outputs": [
        {
          "output_type": "stream",
          "text": [
            "Already up to date.\n"
          ],
          "name": "stdout"
        }
      ]
    },
    {
      "cell_type": "markdown",
      "metadata": {
        "id": "STnJzNkYCJ2h"
      },
      "source": [
        "*Note on `!` vs `%`\n",
        "\n",
        "`!` calls out to a shell (in a new process), while `%` affects the process associated with the notebook.\n",
        "\n",
        "`!cd foo`, by itself, has no lasting effect, since the process with the changed directory immediately terminates. \n",
        "\n",
        "`%cd foo` changes the current directory of the notebook process, which is a lasting effect."
      ]
    }
  ]
}