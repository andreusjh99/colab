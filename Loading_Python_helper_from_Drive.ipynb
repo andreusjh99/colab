{
  "nbformat": 4,
  "nbformat_minor": 0,
  "metadata": {
    "colab": {
      "name": "Loading Python helper from Drive.ipynb",
      "provenance": [],
      "collapsed_sections": [],
      "include_colab_link": true
    },
    "kernelspec": {
      "name": "python3",
      "display_name": "Python 3"
    }
  },
  "cells": [
    {
      "cell_type": "markdown",
      "metadata": {
        "id": "view-in-github",
        "colab_type": "text"
      },
      "source": [
        "<a href=\"https://colab.research.google.com/github/andreusjh99/colab/blob/master/Loading_Python_helper_from_Drive.ipynb\" target=\"_parent\"><img src=\"https://colab.research.google.com/assets/colab-badge.svg\" alt=\"Open In Colab\"/></a>"
      ]
    },
    {
      "cell_type": "markdown",
      "metadata": {
        "id": "91lXa8c5oRR7",
        "colab_type": "text"
      },
      "source": [
        "First, we'll mount Drive."
      ]
    },
    {
      "cell_type": "code",
      "metadata": {
        "id": "hXzGWJivmz60",
        "colab_type": "code",
        "outputId": "804297e1-f22f-421e-d7b5-9010e9f851ba",
        "colab": {
          "base_uri": "https://localhost:8080/",
          "height": 122
        }
      },
      "source": [
        "from google.colab import drive\n",
        "drive.mount('/content/gdrive')"
      ],
      "execution_count": 0,
      "outputs": [
        {
          "output_type": "stream",
          "text": [
            "Go to this URL in a browser: https://accounts.google.com/o/oauth2/auth?client_id=947318989803-6bn6qk8qdgf4n4g3pfee6491hc0brc4i.apps.googleusercontent.com&redirect_uri=urn%3Aietf%3Awg%3Aoauth%3A2.0%3Aoob&scope=email%20https%3A%2F%2Fwww.googleapis.com%2Fauth%2Fdocs.test%20https%3A%2F%2Fwww.googleapis.com%2Fauth%2Fdrive%20https%3A%2F%2Fwww.googleapis.com%2Fauth%2Fdrive.photos.readonly%20https%3A%2F%2Fwww.googleapis.com%2Fauth%2Fpeopleapi.readonly&response_type=code\n",
            "\n",
            "Enter your authorization code:\n",
            "··········\n",
            "Mounted at /content/gdrive\n"
          ],
          "name": "stdout"
        }
      ]
    },
    {
      "cell_type": "markdown",
      "metadata": {
        "id": "Wku8sXE0oXP9",
        "colab_type": "text"
      },
      "source": [
        "I happen to have an existing `.py` file in Drive."
      ]
    },
    {
      "cell_type": "code",
      "metadata": {
        "id": "AdULhsaToPi5",
        "colab_type": "code",
        "outputId": "1652332b-0d19-4c9e-8eb3-bdd7b4802e8c",
        "colab": {
          "base_uri": "https://localhost:8080/",
          "height": 34
        }
      },
      "source": [
        "!ls /content/gdrive/My\\ Drive/*.py"
      ],
      "execution_count": 0,
      "outputs": [
        {
          "output_type": "stream",
          "text": [
            "/content/gdrive/My Drive/mylib.py\n"
          ],
          "name": "stdout"
        }
      ]
    },
    {
      "cell_type": "code",
      "metadata": {
        "id": "WIrBoOh-od6z",
        "colab_type": "code",
        "outputId": "2d525d0b-e554-46dd-9243-5f035f0dc099",
        "colab": {
          "base_uri": "https://localhost:8080/",
          "height": 68
        }
      },
      "source": [
        "!cat '/content/gdrive/My Drive/mylib.py'"
      ],
      "execution_count": 0,
      "outputs": [
        {
          "output_type": "stream",
          "text": [
            "\n",
            "def MyFunction():\n",
            "  print ('My imported function')"
          ],
          "name": "stdout"
        }
      ]
    },
    {
      "cell_type": "markdown",
      "metadata": {
        "id": "S6Mf8Ojmojmc",
        "colab_type": "text"
      },
      "source": [
        "We'll need to update our path to import from Drive."
      ]
    },
    {
      "cell_type": "code",
      "metadata": {
        "id": "psH0aLrvoh78",
        "colab_type": "code",
        "colab": {}
      },
      "source": [
        "import sys\n",
        "sys.path.append('/content/gdrive/My Drive')"
      ],
      "execution_count": 0,
      "outputs": []
    },
    {
      "cell_type": "markdown",
      "metadata": {
        "id": "dZRgYw_Noz5E",
        "colab_type": "text"
      },
      "source": [
        "Now we can import the library and use the function."
      ]
    },
    {
      "cell_type": "code",
      "metadata": {
        "id": "sMFs4loUoxBK",
        "colab_type": "code",
        "outputId": "7cc8f842-82c0-470a-811e-50e5e4850a8e",
        "colab": {
          "base_uri": "https://localhost:8080/",
          "height": 34
        }
      },
      "source": [
        "import mylib\n",
        "mylib.MyFunction()"
      ],
      "execution_count": 0,
      "outputs": [
        {
          "output_type": "stream",
          "text": [
            "My imported function\n"
          ],
          "name": "stdout"
        }
      ]
    }
  ]
}